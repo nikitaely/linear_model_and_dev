{
 "cells": [
  {
   "cell_type": "markdown",
   "id": "837162fc",
   "metadata": {},
   "source": [
    "# Практическая работа"
   ]
  },
  {
   "cell_type": "markdown",
   "id": "09a8e2ab",
   "metadata": {},
   "source": [
    "# Задача"
   ]
  },
  {
   "cell_type": "markdown",
   "id": "553f21dc",
   "metadata": {},
   "source": [
    "Один из способов повысить эффективность взаимодействия банка с клиентами — отправлять предложение о новой услуге не всем клиентам, а только некоторым, которые выбираются по принципу наибольшей склонности к отклику на это предложение.\n",
    "\n",
    "Задача заключается в том, чтобы предложить алгоритм, который будет выдавать склонность клиента к положительному или отрицательному отклику на предложение банка. Предполагается, что, получив такие оценки для некоторого множества клиентов, банк обратится с предложением только к тем, от кого ожидается положительный отклик."
   ]
  },
  {
   "cell_type": "markdown",
   "id": "1436a6d3",
   "metadata": {},
   "source": [
    "Для решения этой задачи загрузите файлы из базы в Postgres.\n",
    "Эта БД хранит информацию о клиентах банка и их персональные данные, такие как пол, количество детей и другие.\n",
    "\n",
    "Описание таблиц с данными представлено ниже."
   ]
  },
  {
   "cell_type": "markdown",
   "id": "a8c0e9bb",
   "metadata": {},
   "source": [
    "**D_work**\n",
    "\n",
    "Описание статусов относительно работы:\n",
    "- ID — идентификатор социального статуса клиента относительно работы;\n",
    "- COMMENT — расшифровка статуса.\n",
    "\n",
    "\n",
    "**D_pens**\n",
    "\n",
    "Описание статусов относительно пенсии:\n",
    "- ID — идентификатор социального статуса;\n",
    "- COMMENT — расшифровка статуса.\n",
    "\n",
    "\n",
    "**D_clients**\n",
    "\n",
    "Описание данных клиентов:\n",
    "- ID — идентификатор записи;\n",
    "- AGE\t— возраст клиента;\n",
    "- GENDER — пол клиента (1 — мужчина, 0 — женщина);\n",
    "- EDUCATION — образование;\n",
    "- MARITAL_STATUS — семейное положение;\n",
    "- CHILD_TOTAL\t— количество детей клиента;\n",
    "- DEPENDANTS — количество иждивенцев клиента;\n",
    "- SOCSTATUS_WORK_FL\t— социальный статус клиента относительно работы (1 — работает, 0 — не работает);\n",
    "- SOCSTATUS_PENS_FL\t— социальный статус клиента относительно пенсии (1 — пенсионер, 0 — не пенсионер);\n",
    "- REG_ADDRESS_PROVINCE — область регистрации клиента;\n",
    "- FACT_ADDRESS_PROVINCE — область фактического пребывания клиента;\n",
    "- POSTAL_ADDRESS_PROVINCE — почтовый адрес области;\n",
    "- FL_PRESENCE_FL — наличие в собственности квартиры (1 — есть, 0 — нет);\n",
    "- OWN_AUTO — количество автомобилей в собственности.\n",
    "\n",
    "\n",
    "**D_agreement**\n",
    "\n",
    "Таблица с зафиксированными откликами клиентов на предложения банка:\n",
    "- AGREEMENT_RK — уникальный идентификатор объекта в выборке;\n",
    "- ID_CLIENT — идентификатор клиента;\n",
    "- TARGET — целевая переменная: отклик на маркетинговую кампанию (1 — отклик был зарегистрирован, 0 — отклика не было).\n",
    "    \n",
    "    \n",
    "**D_job**\n",
    "\n",
    "Описание информации о работе клиентов:\n",
    "- GEN_INDUSTRY — отрасль работы клиента;\n",
    "- GEN_TITLE — должность;\n",
    "- JOB_DIR — направление деятельности внутри компании;\n",
    "- WORK_TIME — время работы на текущем месте (в месяцах);\n",
    "- ID_CLIENT — идентификатор клиента.\n",
    "\n",
    "\n",
    "**D_salary**\n",
    "\n",
    "Описание информации о заработной плате клиентов:\n",
    "- ID_CLIENT — идентификатор клиента;\n",
    "- FAMILY_INCOME — семейный доход (несколько категорий);\n",
    "- PERSONAL_INCOME — личный доход клиента (в рублях).\n",
    "\n",
    "\n",
    "**D_last_credit**\n",
    "\n",
    "Информация о последнем займе клиента:\n",
    "- ID_CLIENT — идентификатор клиента;\n",
    "- CREDIT — сумма последнего кредита клиента (в рублях);\n",
    "- TERM — срок кредита;\n",
    "- FST_PAYMENT — первоначальный взнос (в рублях).\n",
    "\n",
    "\n",
    "**D_loan**\n",
    "\n",
    "Информация о кредитной истории клиента:\n",
    "- ID_CLIENT — идентификатор клиента;\n",
    "- ID_LOAN — идентификатор кредита.\n",
    "\n",
    "**D_close_loan**\n",
    "\n",
    "Информация о статусах кредита (ссуд):\n",
    "- ID_LOAN — идентификатор кредита;\n",
    "- CLOSED_FL — текущий статус кредита (1 — закрыт, 0 — не закрыт)."
   ]
  },
  {
   "cell_type": "markdown",
   "id": "4711c884",
   "metadata": {},
   "source": [
    "*Ниже* представлен минимальный список колонок, которые должны находиться в итоговом датасете после склейки и агрегации данных. По своему усмотрению вы можете добавить дополнительные к этим колонки."
   ]
  },
  {
   "cell_type": "markdown",
   "id": "c38720db",
   "metadata": {},
   "source": [
    "    - AGREEMENT_RK — уникальный идентификатор объекта в выборке;\n",
    "    - TARGET — целевая переменная: отклик на маркетинговую кампанию (1 — отклик был зарегистрирован, 0 — отклика не было);\n",
    "    - AGE — возраст клиента;\n",
    "    - SOCSTATUS_WORK_FL — социальный статус клиента относительно работы (1 — работает, 0 — не работает);\n",
    "    - SOCSTATUS_PENS_FL — социальный статус клиента относительно пенсии (1 — пенсионер, 0 — не пенсионер);\n",
    "    - GENDER — пол клиента (1 — мужчина, 0 — женщина);\n",
    "    - CHILD_TOTAL — количество детей клиента;\n",
    "    - DEPENDANTS — количество иждивенцев клиента;\n",
    "    - PERSONAL_INCOME — личный доход клиента (в рублях);\n",
    "    - LOAN_NUM_TOTAL — количество ссуд клиента;\n",
    "    - LOAN_NUM_CLOSED — количество погашенных ссуд клиента."
   ]
  },
  {
   "cell_type": "markdown",
   "id": "c2e83b46",
   "metadata": {},
   "source": [
    "Будьте внимательны при сборке датасета: это реальные банковские данные, в которых могут наблюдаться дубли, некорректно заполненные значения или значения, противоречащие друг другу. Для получения качественной модели необходимо предварительно очистить датасет от такой информации."
   ]
  },
  {
   "cell_type": "markdown",
   "id": "36a69b87",
   "metadata": {},
   "source": [
    "## Задание 1\n",
    "\n",
    "Соберите всю информацию о клиентах в одну таблицу, где одна строчка соответствует полной информации об одном клиенте."
   ]
  },
  {
   "cell_type": "code",
   "execution_count": 2,
   "id": "5ef98500",
   "metadata": {},
   "outputs": [],
   "source": [
    "import pandas as pd"
   ]
  },
  {
   "cell_type": "code",
   "execution_count": 3,
   "id": "3d9f2b22",
   "metadata": {},
   "outputs": [],
   "source": [
    "PATH = r'C:\\Users\\nikel\\OneDrive\\Рабочий стол\\data\\\\'\n",
    "\n",
    "D_clients = pd.read_csv(PATH + 'D_clients.csv', sep=',')\n",
    "D_job = pd.read_csv(PATH + 'D_job.csv')\n",
    "D_salary = pd.read_csv(PATH + 'D_salary.csv')\n",
    "D_last_credit = pd.read_csv(PATH + 'D_last_credit.csv')\n",
    "D_loan = pd.read_csv(PATH + 'D_loan.csv')\n",
    "D_close_loan = pd.read_csv(PATH + 'D_close_loan.csv')\n",
    "D_target = pd.read_csv(PATH + 'D_target.csv')"
   ]
  },
  {
   "cell_type": "code",
   "execution_count": 4,
   "id": "419e199b",
   "metadata": {},
   "outputs": [
    {
     "data": {
      "text/html": [
       "<div>\n",
       "<style scoped>\n",
       "    .dataframe tbody tr th:only-of-type {\n",
       "        vertical-align: middle;\n",
       "    }\n",
       "\n",
       "    .dataframe tbody tr th {\n",
       "        vertical-align: top;\n",
       "    }\n",
       "\n",
       "    .dataframe thead th {\n",
       "        text-align: right;\n",
       "    }\n",
       "</style>\n",
       "<table border=\"1\" class=\"dataframe\">\n",
       "  <thead>\n",
       "    <tr style=\"text-align: right;\">\n",
       "      <th></th>\n",
       "      <th>ID</th>\n",
       "      <th>AGE</th>\n",
       "      <th>GENDER</th>\n",
       "      <th>CHILD_TOTAL</th>\n",
       "      <th>DEPENDANTS</th>\n",
       "      <th>SOCSTATUS_WORK_FL</th>\n",
       "      <th>SOCSTATUS_PENS_FL</th>\n",
       "      <th>FL_PRESENCE_FL</th>\n",
       "      <th>OWN_AUTO</th>\n",
       "    </tr>\n",
       "  </thead>\n",
       "  <tbody>\n",
       "    <tr>\n",
       "      <th>count</th>\n",
       "      <td>1.600000e+04</td>\n",
       "      <td>16000.000000</td>\n",
       "      <td>16000.00000</td>\n",
       "      <td>16000.000000</td>\n",
       "      <td>16000.000000</td>\n",
       "      <td>16000.000000</td>\n",
       "      <td>16000.000000</td>\n",
       "      <td>16000.000000</td>\n",
       "      <td>16000.000000</td>\n",
       "    </tr>\n",
       "    <tr>\n",
       "      <th>mean</th>\n",
       "      <td>1.068124e+08</td>\n",
       "      <td>40.394750</td>\n",
       "      <td>0.65325</td>\n",
       "      <td>1.097562</td>\n",
       "      <td>0.644437</td>\n",
       "      <td>0.909375</td>\n",
       "      <td>0.134625</td>\n",
       "      <td>0.310188</td>\n",
       "      <td>0.116562</td>\n",
       "    </tr>\n",
       "    <tr>\n",
       "      <th>std</th>\n",
       "      <td>4.618946e+03</td>\n",
       "      <td>11.600365</td>\n",
       "      <td>0.47595</td>\n",
       "      <td>0.995731</td>\n",
       "      <td>0.811975</td>\n",
       "      <td>0.287084</td>\n",
       "      <td>0.341333</td>\n",
       "      <td>0.462585</td>\n",
       "      <td>0.321298</td>\n",
       "    </tr>\n",
       "    <tr>\n",
       "      <th>min</th>\n",
       "      <td>1.068044e+08</td>\n",
       "      <td>21.000000</td>\n",
       "      <td>0.00000</td>\n",
       "      <td>0.000000</td>\n",
       "      <td>0.000000</td>\n",
       "      <td>0.000000</td>\n",
       "      <td>0.000000</td>\n",
       "      <td>0.000000</td>\n",
       "      <td>0.000000</td>\n",
       "    </tr>\n",
       "    <tr>\n",
       "      <th>25%</th>\n",
       "      <td>1.068084e+08</td>\n",
       "      <td>30.000000</td>\n",
       "      <td>0.00000</td>\n",
       "      <td>0.000000</td>\n",
       "      <td>0.000000</td>\n",
       "      <td>1.000000</td>\n",
       "      <td>0.000000</td>\n",
       "      <td>0.000000</td>\n",
       "      <td>0.000000</td>\n",
       "    </tr>\n",
       "    <tr>\n",
       "      <th>50%</th>\n",
       "      <td>1.068124e+08</td>\n",
       "      <td>39.000000</td>\n",
       "      <td>1.00000</td>\n",
       "      <td>1.000000</td>\n",
       "      <td>0.000000</td>\n",
       "      <td>1.000000</td>\n",
       "      <td>0.000000</td>\n",
       "      <td>0.000000</td>\n",
       "      <td>0.000000</td>\n",
       "    </tr>\n",
       "    <tr>\n",
       "      <th>75%</th>\n",
       "      <td>1.068164e+08</td>\n",
       "      <td>50.000000</td>\n",
       "      <td>1.00000</td>\n",
       "      <td>2.000000</td>\n",
       "      <td>1.000000</td>\n",
       "      <td>1.000000</td>\n",
       "      <td>0.000000</td>\n",
       "      <td>1.000000</td>\n",
       "      <td>0.000000</td>\n",
       "    </tr>\n",
       "    <tr>\n",
       "      <th>max</th>\n",
       "      <td>1.068204e+08</td>\n",
       "      <td>67.000000</td>\n",
       "      <td>1.00000</td>\n",
       "      <td>10.000000</td>\n",
       "      <td>7.000000</td>\n",
       "      <td>1.000000</td>\n",
       "      <td>1.000000</td>\n",
       "      <td>1.000000</td>\n",
       "      <td>2.000000</td>\n",
       "    </tr>\n",
       "  </tbody>\n",
       "</table>\n",
       "</div>"
      ],
      "text/plain": [
       "                 ID           AGE       GENDER   CHILD_TOTAL    DEPENDANTS  \\\n",
       "count  1.600000e+04  16000.000000  16000.00000  16000.000000  16000.000000   \n",
       "mean   1.068124e+08     40.394750      0.65325      1.097562      0.644437   \n",
       "std    4.618946e+03     11.600365      0.47595      0.995731      0.811975   \n",
       "min    1.068044e+08     21.000000      0.00000      0.000000      0.000000   \n",
       "25%    1.068084e+08     30.000000      0.00000      0.000000      0.000000   \n",
       "50%    1.068124e+08     39.000000      1.00000      1.000000      0.000000   \n",
       "75%    1.068164e+08     50.000000      1.00000      2.000000      1.000000   \n",
       "max    1.068204e+08     67.000000      1.00000     10.000000      7.000000   \n",
       "\n",
       "       SOCSTATUS_WORK_FL  SOCSTATUS_PENS_FL  FL_PRESENCE_FL      OWN_AUTO  \n",
       "count       16000.000000       16000.000000    16000.000000  16000.000000  \n",
       "mean            0.909375           0.134625        0.310188      0.116562  \n",
       "std             0.287084           0.341333        0.462585      0.321298  \n",
       "min             0.000000           0.000000        0.000000      0.000000  \n",
       "25%             1.000000           0.000000        0.000000      0.000000  \n",
       "50%             1.000000           0.000000        0.000000      0.000000  \n",
       "75%             1.000000           0.000000        1.000000      0.000000  \n",
       "max             1.000000           1.000000        1.000000      2.000000  "
      ]
     },
     "execution_count": 4,
     "metadata": {},
     "output_type": "execute_result"
    }
   ],
   "source": [
    "D_clients.describe()"
   ]
  },
  {
   "cell_type": "code",
   "execution_count": null,
   "id": "d55acb82",
   "metadata": {},
   "outputs": [],
   "source": []
  },
  {
   "cell_type": "code",
   "execution_count": 5,
   "id": "a76ca1e4",
   "metadata": {},
   "outputs": [
    {
     "data": {
      "text/html": [
       "<div>\n",
       "<style scoped>\n",
       "    .dataframe tbody tr th:only-of-type {\n",
       "        vertical-align: middle;\n",
       "    }\n",
       "\n",
       "    .dataframe tbody tr th {\n",
       "        vertical-align: top;\n",
       "    }\n",
       "\n",
       "    .dataframe thead th {\n",
       "        text-align: right;\n",
       "    }\n",
       "</style>\n",
       "<table border=\"1\" class=\"dataframe\">\n",
       "  <thead>\n",
       "    <tr style=\"text-align: right;\">\n",
       "      <th></th>\n",
       "      <th>WORK_TIME</th>\n",
       "      <th>ID_CLIENT</th>\n",
       "    </tr>\n",
       "  </thead>\n",
       "  <tbody>\n",
       "    <tr>\n",
       "      <th>count</th>\n",
       "      <td>1.385500e+04</td>\n",
       "      <td>1.522300e+04</td>\n",
       "    </tr>\n",
       "    <tr>\n",
       "      <th>mean</th>\n",
       "      <td>2.922120e+02</td>\n",
       "      <td>1.068120e+08</td>\n",
       "    </tr>\n",
       "    <tr>\n",
       "      <th>std</th>\n",
       "      <td>2.436483e+04</td>\n",
       "      <td>4.394646e+03</td>\n",
       "    </tr>\n",
       "    <tr>\n",
       "      <th>min</th>\n",
       "      <td>1.000000e+00</td>\n",
       "      <td>1.068044e+08</td>\n",
       "    </tr>\n",
       "    <tr>\n",
       "      <th>25%</th>\n",
       "      <td>2.400000e+01</td>\n",
       "      <td>1.068082e+08</td>\n",
       "    </tr>\n",
       "    <tr>\n",
       "      <th>50%</th>\n",
       "      <td>4.800000e+01</td>\n",
       "      <td>1.068120e+08</td>\n",
       "    </tr>\n",
       "    <tr>\n",
       "      <th>75%</th>\n",
       "      <td>1.100000e+02</td>\n",
       "      <td>1.068158e+08</td>\n",
       "    </tr>\n",
       "    <tr>\n",
       "      <th>max</th>\n",
       "      <td>2.867959e+06</td>\n",
       "      <td>1.068196e+08</td>\n",
       "    </tr>\n",
       "  </tbody>\n",
       "</table>\n",
       "</div>"
      ],
      "text/plain": [
       "          WORK_TIME     ID_CLIENT\n",
       "count  1.385500e+04  1.522300e+04\n",
       "mean   2.922120e+02  1.068120e+08\n",
       "std    2.436483e+04  4.394646e+03\n",
       "min    1.000000e+00  1.068044e+08\n",
       "25%    2.400000e+01  1.068082e+08\n",
       "50%    4.800000e+01  1.068120e+08\n",
       "75%    1.100000e+02  1.068158e+08\n",
       "max    2.867959e+06  1.068196e+08"
      ]
     },
     "execution_count": 5,
     "metadata": {},
     "output_type": "execute_result"
    }
   ],
   "source": [
    "D_job.describe()"
   ]
  },
  {
   "cell_type": "code",
   "execution_count": 6,
   "id": "edf5cb59",
   "metadata": {},
   "outputs": [
    {
     "data": {
      "text/html": [
       "<div>\n",
       "<style scoped>\n",
       "    .dataframe tbody tr th:only-of-type {\n",
       "        vertical-align: middle;\n",
       "    }\n",
       "\n",
       "    .dataframe tbody tr th {\n",
       "        vertical-align: top;\n",
       "    }\n",
       "\n",
       "    .dataframe thead th {\n",
       "        text-align: right;\n",
       "    }\n",
       "</style>\n",
       "<table border=\"1\" class=\"dataframe\">\n",
       "  <thead>\n",
       "    <tr style=\"text-align: right;\">\n",
       "      <th></th>\n",
       "      <th>PERSONAL_INCOME</th>\n",
       "      <th>ID_CLIENT</th>\n",
       "    </tr>\n",
       "  </thead>\n",
       "  <tbody>\n",
       "    <tr>\n",
       "      <th>count</th>\n",
       "      <td>15523.000000</td>\n",
       "      <td>1.552300e+04</td>\n",
       "    </tr>\n",
       "    <tr>\n",
       "      <th>mean</th>\n",
       "      <td>13848.041638</td>\n",
       "      <td>1.068120e+08</td>\n",
       "    </tr>\n",
       "    <tr>\n",
       "      <th>std</th>\n",
       "      <td>8998.618992</td>\n",
       "      <td>4.395857e+03</td>\n",
       "    </tr>\n",
       "    <tr>\n",
       "      <th>min</th>\n",
       "      <td>24.000000</td>\n",
       "      <td>1.068044e+08</td>\n",
       "    </tr>\n",
       "    <tr>\n",
       "      <th>25%</th>\n",
       "      <td>8000.000000</td>\n",
       "      <td>1.068082e+08</td>\n",
       "    </tr>\n",
       "    <tr>\n",
       "      <th>50%</th>\n",
       "      <td>12000.000000</td>\n",
       "      <td>1.068120e+08</td>\n",
       "    </tr>\n",
       "    <tr>\n",
       "      <th>75%</th>\n",
       "      <td>17000.000000</td>\n",
       "      <td>1.068158e+08</td>\n",
       "    </tr>\n",
       "    <tr>\n",
       "      <th>max</th>\n",
       "      <td>250000.000000</td>\n",
       "      <td>1.068196e+08</td>\n",
       "    </tr>\n",
       "  </tbody>\n",
       "</table>\n",
       "</div>"
      ],
      "text/plain": [
       "       PERSONAL_INCOME     ID_CLIENT\n",
       "count     15523.000000  1.552300e+04\n",
       "mean      13848.041638  1.068120e+08\n",
       "std        8998.618992  4.395857e+03\n",
       "min          24.000000  1.068044e+08\n",
       "25%        8000.000000  1.068082e+08\n",
       "50%       12000.000000  1.068120e+08\n",
       "75%       17000.000000  1.068158e+08\n",
       "max      250000.000000  1.068196e+08"
      ]
     },
     "execution_count": 6,
     "metadata": {},
     "output_type": "execute_result"
    }
   ],
   "source": [
    "D_salary.describe()"
   ]
  },
  {
   "cell_type": "code",
   "execution_count": 7,
   "id": "06a256cf",
   "metadata": {},
   "outputs": [
    {
     "data": {
      "text/html": [
       "<div>\n",
       "<style scoped>\n",
       "    .dataframe tbody tr th:only-of-type {\n",
       "        vertical-align: middle;\n",
       "    }\n",
       "\n",
       "    .dataframe tbody tr th {\n",
       "        vertical-align: top;\n",
       "    }\n",
       "\n",
       "    .dataframe thead th {\n",
       "        text-align: right;\n",
       "    }\n",
       "</style>\n",
       "<table border=\"1\" class=\"dataframe\">\n",
       "  <thead>\n",
       "    <tr style=\"text-align: right;\">\n",
       "      <th></th>\n",
       "      <th>CREDIT</th>\n",
       "      <th>TERM</th>\n",
       "      <th>FST_PAYMENT</th>\n",
       "      <th>ID_CLIENT</th>\n",
       "    </tr>\n",
       "  </thead>\n",
       "  <tbody>\n",
       "    <tr>\n",
       "      <th>count</th>\n",
       "      <td>15223.000000</td>\n",
       "      <td>15223.000000</td>\n",
       "      <td>15223.000000</td>\n",
       "      <td>1.522300e+04</td>\n",
       "    </tr>\n",
       "    <tr>\n",
       "      <th>mean</th>\n",
       "      <td>14667.959345</td>\n",
       "      <td>8.101031</td>\n",
       "      <td>3398.562655</td>\n",
       "      <td>1.068120e+08</td>\n",
       "    </tr>\n",
       "    <tr>\n",
       "      <th>std</th>\n",
       "      <td>12147.873496</td>\n",
       "      <td>4.094090</td>\n",
       "      <td>5158.108934</td>\n",
       "      <td>4.394646e+03</td>\n",
       "    </tr>\n",
       "    <tr>\n",
       "      <th>min</th>\n",
       "      <td>2000.000000</td>\n",
       "      <td>3.000000</td>\n",
       "      <td>0.000000</td>\n",
       "      <td>1.068044e+08</td>\n",
       "    </tr>\n",
       "    <tr>\n",
       "      <th>25%</th>\n",
       "      <td>6500.000000</td>\n",
       "      <td>6.000000</td>\n",
       "      <td>1000.000000</td>\n",
       "      <td>1.068082e+08</td>\n",
       "    </tr>\n",
       "    <tr>\n",
       "      <th>50%</th>\n",
       "      <td>11550.000000</td>\n",
       "      <td>6.000000</td>\n",
       "      <td>2000.000000</td>\n",
       "      <td>1.068120e+08</td>\n",
       "    </tr>\n",
       "    <tr>\n",
       "      <th>75%</th>\n",
       "      <td>19170.000000</td>\n",
       "      <td>10.000000</td>\n",
       "      <td>4000.000000</td>\n",
       "      <td>1.068158e+08</td>\n",
       "    </tr>\n",
       "    <tr>\n",
       "      <th>max</th>\n",
       "      <td>119700.000000</td>\n",
       "      <td>36.000000</td>\n",
       "      <td>140000.000000</td>\n",
       "      <td>1.068196e+08</td>\n",
       "    </tr>\n",
       "  </tbody>\n",
       "</table>\n",
       "</div>"
      ],
      "text/plain": [
       "              CREDIT          TERM    FST_PAYMENT     ID_CLIENT\n",
       "count   15223.000000  15223.000000   15223.000000  1.522300e+04\n",
       "mean    14667.959345      8.101031    3398.562655  1.068120e+08\n",
       "std     12147.873496      4.094090    5158.108934  4.394646e+03\n",
       "min      2000.000000      3.000000       0.000000  1.068044e+08\n",
       "25%      6500.000000      6.000000    1000.000000  1.068082e+08\n",
       "50%     11550.000000      6.000000    2000.000000  1.068120e+08\n",
       "75%     19170.000000     10.000000    4000.000000  1.068158e+08\n",
       "max    119700.000000     36.000000  140000.000000  1.068196e+08"
      ]
     },
     "execution_count": 7,
     "metadata": {},
     "output_type": "execute_result"
    }
   ],
   "source": [
    "D_last_credit.describe()"
   ]
  },
  {
   "cell_type": "code",
   "execution_count": 8,
   "id": "95630a1e",
   "metadata": {},
   "outputs": [
    {
     "data": {
      "text/html": [
       "<div>\n",
       "<style scoped>\n",
       "    .dataframe tbody tr th:only-of-type {\n",
       "        vertical-align: middle;\n",
       "    }\n",
       "\n",
       "    .dataframe tbody tr th {\n",
       "        vertical-align: top;\n",
       "    }\n",
       "\n",
       "    .dataframe thead th {\n",
       "        text-align: right;\n",
       "    }\n",
       "</style>\n",
       "<table border=\"1\" class=\"dataframe\">\n",
       "  <thead>\n",
       "    <tr style=\"text-align: right;\">\n",
       "      <th></th>\n",
       "      <th>ID_LOAN</th>\n",
       "      <th>CLOSED_FL</th>\n",
       "    </tr>\n",
       "  </thead>\n",
       "  <tbody>\n",
       "    <tr>\n",
       "      <th>count</th>\n",
       "      <td>2.112600e+04</td>\n",
       "      <td>21126.000000</td>\n",
       "    </tr>\n",
       "    <tr>\n",
       "      <th>mean</th>\n",
       "      <td>1.753801e+09</td>\n",
       "      <td>0.541797</td>\n",
       "    </tr>\n",
       "    <tr>\n",
       "      <th>std</th>\n",
       "      <td>6.098695e+03</td>\n",
       "      <td>0.498262</td>\n",
       "    </tr>\n",
       "    <tr>\n",
       "      <th>min</th>\n",
       "      <td>1.753791e+09</td>\n",
       "      <td>0.000000</td>\n",
       "    </tr>\n",
       "    <tr>\n",
       "      <th>25%</th>\n",
       "      <td>1.753796e+09</td>\n",
       "      <td>0.000000</td>\n",
       "    </tr>\n",
       "    <tr>\n",
       "      <th>50%</th>\n",
       "      <td>1.753801e+09</td>\n",
       "      <td>1.000000</td>\n",
       "    </tr>\n",
       "    <tr>\n",
       "      <th>75%</th>\n",
       "      <td>1.753807e+09</td>\n",
       "      <td>1.000000</td>\n",
       "    </tr>\n",
       "    <tr>\n",
       "      <th>max</th>\n",
       "      <td>1.753812e+09</td>\n",
       "      <td>1.000000</td>\n",
       "    </tr>\n",
       "  </tbody>\n",
       "</table>\n",
       "</div>"
      ],
      "text/plain": [
       "            ID_LOAN     CLOSED_FL\n",
       "count  2.112600e+04  21126.000000\n",
       "mean   1.753801e+09      0.541797\n",
       "std    6.098695e+03      0.498262\n",
       "min    1.753791e+09      0.000000\n",
       "25%    1.753796e+09      0.000000\n",
       "50%    1.753801e+09      1.000000\n",
       "75%    1.753807e+09      1.000000\n",
       "max    1.753812e+09      1.000000"
      ]
     },
     "execution_count": 8,
     "metadata": {},
     "output_type": "execute_result"
    }
   ],
   "source": [
    "D_close_loan.describe()"
   ]
  },
  {
   "cell_type": "code",
   "execution_count": 9,
   "id": "96001c98",
   "metadata": {},
   "outputs": [
    {
     "data": {
      "text/html": [
       "<div>\n",
       "<style scoped>\n",
       "    .dataframe tbody tr th:only-of-type {\n",
       "        vertical-align: middle;\n",
       "    }\n",
       "\n",
       "    .dataframe tbody tr th {\n",
       "        vertical-align: top;\n",
       "    }\n",
       "\n",
       "    .dataframe thead th {\n",
       "        text-align: right;\n",
       "    }\n",
       "</style>\n",
       "<table border=\"1\" class=\"dataframe\">\n",
       "  <thead>\n",
       "    <tr style=\"text-align: right;\">\n",
       "      <th></th>\n",
       "      <th>AGREEMENT_RK</th>\n",
       "      <th>ID_CLIENT</th>\n",
       "      <th>TARGET</th>\n",
       "    </tr>\n",
       "  </thead>\n",
       "  <tbody>\n",
       "    <tr>\n",
       "      <th>count</th>\n",
       "      <td>1.522300e+04</td>\n",
       "      <td>1.522300e+04</td>\n",
       "      <td>15223.000000</td>\n",
       "    </tr>\n",
       "    <tr>\n",
       "      <th>mean</th>\n",
       "      <td>6.540183e+07</td>\n",
       "      <td>1.068120e+08</td>\n",
       "      <td>0.119030</td>\n",
       "    </tr>\n",
       "    <tr>\n",
       "      <th>std</th>\n",
       "      <td>4.568181e+06</td>\n",
       "      <td>4.394646e+03</td>\n",
       "      <td>0.323835</td>\n",
       "    </tr>\n",
       "    <tr>\n",
       "      <th>min</th>\n",
       "      <td>5.991015e+07</td>\n",
       "      <td>1.068044e+08</td>\n",
       "      <td>0.000000</td>\n",
       "    </tr>\n",
       "    <tr>\n",
       "      <th>25%</th>\n",
       "      <td>6.192092e+07</td>\n",
       "      <td>1.068082e+08</td>\n",
       "      <td>0.000000</td>\n",
       "    </tr>\n",
       "    <tr>\n",
       "      <th>50%</th>\n",
       "      <td>6.437100e+07</td>\n",
       "      <td>1.068120e+08</td>\n",
       "      <td>0.000000</td>\n",
       "    </tr>\n",
       "    <tr>\n",
       "      <th>75%</th>\n",
       "      <td>6.708802e+07</td>\n",
       "      <td>1.068158e+08</td>\n",
       "      <td>0.000000</td>\n",
       "    </tr>\n",
       "    <tr>\n",
       "      <th>max</th>\n",
       "      <td>7.529224e+07</td>\n",
       "      <td>1.068196e+08</td>\n",
       "      <td>1.000000</td>\n",
       "    </tr>\n",
       "  </tbody>\n",
       "</table>\n",
       "</div>"
      ],
      "text/plain": [
       "       AGREEMENT_RK     ID_CLIENT        TARGET\n",
       "count  1.522300e+04  1.522300e+04  15223.000000\n",
       "mean   6.540183e+07  1.068120e+08      0.119030\n",
       "std    4.568181e+06  4.394646e+03      0.323835\n",
       "min    5.991015e+07  1.068044e+08      0.000000\n",
       "25%    6.192092e+07  1.068082e+08      0.000000\n",
       "50%    6.437100e+07  1.068120e+08      0.000000\n",
       "75%    6.708802e+07  1.068158e+08      0.000000\n",
       "max    7.529224e+07  1.068196e+08      1.000000"
      ]
     },
     "execution_count": 9,
     "metadata": {},
     "output_type": "execute_result"
    }
   ],
   "source": [
    "D_target.describe()"
   ]
  },
  {
   "cell_type": "markdown",
   "id": "4f46588d",
   "metadata": {},
   "source": [
    "В таблицах нет аномальных значений"
   ]
  },
  {
   "cell_type": "markdown",
   "id": "c258cbac",
   "metadata": {},
   "source": [
    "Удалим явные дубликаты из таблиц"
   ]
  },
  {
   "cell_type": "code",
   "execution_count": 10,
   "id": "1952ad0c",
   "metadata": {},
   "outputs": [],
   "source": [
    "D_clients = D_clients.drop_duplicates()\n",
    "D_job = D_job.drop_duplicates()\n",
    "D_salary = D_salary.drop_duplicates()\n",
    "D_last_credit = D_last_credit.drop_duplicates()\n",
    "D_close_loan = D_close_loan.drop_duplicates()\n",
    "D_target = D_target.drop_duplicates()\n",
    "D_loan = D_loan.drop_duplicates()"
   ]
  },
  {
   "cell_type": "code",
   "execution_count": 11,
   "id": "5b40f9f1",
   "metadata": {},
   "outputs": [
    {
     "data": {
      "text/html": [
       "<div>\n",
       "<style scoped>\n",
       "    .dataframe tbody tr th:only-of-type {\n",
       "        vertical-align: middle;\n",
       "    }\n",
       "\n",
       "    .dataframe tbody tr th {\n",
       "        vertical-align: top;\n",
       "    }\n",
       "\n",
       "    .dataframe thead th {\n",
       "        text-align: right;\n",
       "    }\n",
       "</style>\n",
       "<table border=\"1\" class=\"dataframe\">\n",
       "  <thead>\n",
       "    <tr style=\"text-align: right;\">\n",
       "      <th></th>\n",
       "      <th>AGREEMENT_RK</th>\n",
       "      <th>ID_CLIENT</th>\n",
       "      <th>TARGET</th>\n",
       "    </tr>\n",
       "  </thead>\n",
       "  <tbody>\n",
       "    <tr>\n",
       "      <th>0</th>\n",
       "      <td>59910150</td>\n",
       "      <td>106804370</td>\n",
       "      <td>0</td>\n",
       "    </tr>\n",
       "    <tr>\n",
       "      <th>1</th>\n",
       "      <td>59910230</td>\n",
       "      <td>106804371</td>\n",
       "      <td>0</td>\n",
       "    </tr>\n",
       "    <tr>\n",
       "      <th>2</th>\n",
       "      <td>59910525</td>\n",
       "      <td>106804372</td>\n",
       "      <td>0</td>\n",
       "    </tr>\n",
       "    <tr>\n",
       "      <th>3</th>\n",
       "      <td>59910803</td>\n",
       "      <td>106804373</td>\n",
       "      <td>0</td>\n",
       "    </tr>\n",
       "    <tr>\n",
       "      <th>4</th>\n",
       "      <td>59911781</td>\n",
       "      <td>106804374</td>\n",
       "      <td>0</td>\n",
       "    </tr>\n",
       "    <tr>\n",
       "      <th>...</th>\n",
       "      <td>...</td>\n",
       "      <td>...</td>\n",
       "      <td>...</td>\n",
       "    </tr>\n",
       "    <tr>\n",
       "      <th>15218</th>\n",
       "      <td>75291424</td>\n",
       "      <td>106819588</td>\n",
       "      <td>0</td>\n",
       "    </tr>\n",
       "    <tr>\n",
       "      <th>15219</th>\n",
       "      <td>75291888</td>\n",
       "      <td>106819589</td>\n",
       "      <td>0</td>\n",
       "    </tr>\n",
       "    <tr>\n",
       "      <th>15220</th>\n",
       "      <td>75291923</td>\n",
       "      <td>106819590</td>\n",
       "      <td>0</td>\n",
       "    </tr>\n",
       "    <tr>\n",
       "      <th>15221</th>\n",
       "      <td>75291960</td>\n",
       "      <td>106819591</td>\n",
       "      <td>0</td>\n",
       "    </tr>\n",
       "    <tr>\n",
       "      <th>15222</th>\n",
       "      <td>75292242</td>\n",
       "      <td>106819592</td>\n",
       "      <td>0</td>\n",
       "    </tr>\n",
       "  </tbody>\n",
       "</table>\n",
       "<p>15223 rows × 3 columns</p>\n",
       "</div>"
      ],
      "text/plain": [
       "       AGREEMENT_RK  ID_CLIENT  TARGET\n",
       "0          59910150  106804370       0\n",
       "1          59910230  106804371       0\n",
       "2          59910525  106804372       0\n",
       "3          59910803  106804373       0\n",
       "4          59911781  106804374       0\n",
       "...             ...        ...     ...\n",
       "15218      75291424  106819588       0\n",
       "15219      75291888  106819589       0\n",
       "15220      75291923  106819590       0\n",
       "15221      75291960  106819591       0\n",
       "15222      75292242  106819592       0\n",
       "\n",
       "[15223 rows x 3 columns]"
      ]
     },
     "execution_count": 11,
     "metadata": {},
     "output_type": "execute_result"
    }
   ],
   "source": [
    "D_target"
   ]
  },
  {
   "cell_type": "code",
   "execution_count": 12,
   "id": "643eae85",
   "metadata": {
    "scrolled": true
   },
   "outputs": [
    {
     "ename": "NameError",
     "evalue": "name 'df' is not defined",
     "output_type": "error",
     "traceback": [
      "\u001b[1;31m---------------------------------------------------------------------------\u001b[0m",
      "\u001b[1;31mNameError\u001b[0m                                 Traceback (most recent call last)",
      "Cell \u001b[1;32mIn[12], line 1\u001b[0m\n\u001b[1;32m----> 1\u001b[0m df\n",
      "\u001b[1;31mNameError\u001b[0m: name 'df' is not defined"
     ]
    }
   ],
   "source": [
    "df"
   ]
  },
  {
   "cell_type": "code",
   "execution_count": null,
   "id": "f59ab2f1",
   "metadata": {},
   "outputs": [],
   "source": []
  },
  {
   "cell_type": "markdown",
   "id": "d1b9d808",
   "metadata": {},
   "source": [
    "Объединим таблицы в одну"
   ]
  },
  {
   "cell_type": "code",
   "execution_count": 13,
   "id": "da9c271d",
   "metadata": {},
   "outputs": [
    {
     "name": "stderr",
     "output_type": "stream",
     "text": [
      "C:\\Users\\nikel\\AppData\\Local\\Temp\\ipykernel_16880\\467895592.py:5: FutureWarning: Passing 'suffixes' which cause duplicate columns {'ID_CLIENT_x'} in the result is deprecated and will raise a MergeError in a future version.\n",
      "  df = df.merge(D_target, left_on='ID', right_on='ID_CLIENT', how='inner')\n"
     ]
    }
   ],
   "source": [
    "df = D_clients.merge(D_job, left_on='ID', right_on='ID_CLIENT', how='left')\n",
    "df = df.merge(D_salary, left_on='ID', right_on='ID_CLIENT', how='left')\n",
    "df = df.merge(D_last_credit, left_on='ID', right_on='ID_CLIENT', how='left')\n",
    "\n",
    "df = df.merge(D_target, left_on='ID', right_on='ID_CLIENT', how='inner')\n",
    "\n",
    "\n",
    "num_total = D_loan.groupby('ID_CLIENT').agg('count')\n",
    "df = df.merge(num_total, left_on='ID', right_on='ID_CLIENT', how='left')\n",
    "\n",
    "D_loan = D_loan.merge(D_close_loan, on='ID_LOAN', how='left')\n",
    "D_loan_group = D_loan.groupby(by='ID_CLIENT').agg('sum')\n",
    "\n",
    "df = df.merge(D_loan_group, left_on='ID', right_on='ID_CLIENT', how='left')\n"
   ]
  },
  {
   "cell_type": "markdown",
   "id": "4a838f00",
   "metadata": {},
   "source": [
    "Удалим ненужные столбцы"
   ]
  },
  {
   "cell_type": "code",
   "execution_count": 14,
   "id": "6ea41efe",
   "metadata": {},
   "outputs": [],
   "source": [
    "df = df.drop(['REG_ADDRESS_PROVINCE', 'FACT_ADDRESS_PROVINCE', 'POSTAL_ADDRESS_PROVINCE', 'FL_PRESENCE_FL',\n",
    "         'OWN_AUTO', 'GEN_INDUSTRY', 'JOB_DIR', 'GEN_TITLE', 'WORK_TIME', 'ID_CLIENT_x', 'FAMILY_INCOME', 'ID_CLIENT_y', \n",
    "        'CREDIT', 'TERM', 'FST_PAYMENT', 'ID_CLIENT_x', 'ID_LOAN_y', 'EDUCATION', 'MARITAL_STATUS', 'ID'], axis=1)"
   ]
  },
  {
   "cell_type": "code",
   "execution_count": 15,
   "id": "c493f8f0",
   "metadata": {},
   "outputs": [
    {
     "data": {
      "text/plain": [
       "Index(['AGE', 'GENDER', 'CHILD_TOTAL', 'DEPENDANTS', 'SOCSTATUS_WORK_FL',\n",
       "       'SOCSTATUS_PENS_FL', 'PERSONAL_INCOME', 'AGREEMENT_RK', 'TARGET',\n",
       "       'ID_LOAN_x', 'CLOSED_FL'],\n",
       "      dtype='object')"
      ]
     },
     "execution_count": 15,
     "metadata": {},
     "output_type": "execute_result"
    }
   ],
   "source": [
    "df.columns"
   ]
  },
  {
   "cell_type": "code",
   "execution_count": 16,
   "id": "41870e10",
   "metadata": {},
   "outputs": [],
   "source": [
    "df = df.rename(columns={\"ID_LOAN_x\": \"LOAN_NUM_TOTAL\", \"CLOSED_FL\": \"LOAN_NUM_CLOSED\"})"
   ]
  },
  {
   "cell_type": "markdown",
   "id": "0ca19312",
   "metadata": {},
   "source": [
    "Проверим на пропуски"
   ]
  },
  {
   "cell_type": "code",
   "execution_count": 17,
   "id": "6b3901b0",
   "metadata": {},
   "outputs": [
    {
     "data": {
      "text/plain": [
       "AGE                  0\n",
       "GENDER               0\n",
       "CHILD_TOTAL          0\n",
       "DEPENDANTS           0\n",
       "SOCSTATUS_WORK_FL    0\n",
       "SOCSTATUS_PENS_FL    0\n",
       "PERSONAL_INCOME      0\n",
       "AGREEMENT_RK         0\n",
       "TARGET               0\n",
       "LOAN_NUM_TOTAL       0\n",
       "LOAN_NUM_CLOSED      0\n",
       "dtype: int64"
      ]
     },
     "execution_count": 17,
     "metadata": {},
     "output_type": "execute_result"
    }
   ],
   "source": [
    "df.isna().sum()"
   ]
  },
  {
   "cell_type": "code",
   "execution_count": 18,
   "id": "bfaf1135",
   "metadata": {},
   "outputs": [],
   "source": [
    "df.to_csv(r'C:\\Users\\nikel\\OneDrive\\Рабочий стол\\data\\df.csv', index=False)"
   ]
  },
  {
   "cell_type": "markdown",
   "id": "e56f4634",
   "metadata": {},
   "source": [
    "## Задание 2\n",
    "\n",
    "При помощи инструмента Streamlit проведите разведочный анализ данных. В него может входить:\n",
    "\n",
    "* построение графиков распределений признаков\n",
    "* построение матрицы корреляций\n",
    "* построение графиков зависимостей целевой переменной и признаков\n",
    "* вычисление числовых характеристик распределения числовых столбцов (среднее, min, max, медиана и так далее)\n",
    "* любые другие ваши идеи приветствуются!\n",
    "\n",
    "[Пример Streamlit-приложения](https://rateyourflight.streamlit.app) с разведочным анализом, прогнозом модели и оценкой ее результатов."
   ]
  },
  {
   "cell_type": "code",
   "execution_count": 32,
   "id": "746c5bce",
   "metadata": {},
   "outputs": [],
   "source": [
    "import matplotlib.pyplot as plt\n",
    "import seaborn as sns"
   ]
  },
  {
   "cell_type": "code",
   "execution_count": null,
   "id": "a85d20f6",
   "metadata": {},
   "outputs": [],
   "source": [
    "Распределение личного дохода"
   ]
  },
  {
   "cell_type": "code",
   "execution_count": 28,
   "id": "f92db88a",
   "metadata": {},
   "outputs": [
    {
     "data": {
      "image/png": "[encoded data removed]",
      "text/plain": [
       "<Figure size 640x480 with 1 Axes>"
      ]
     },
     "metadata": {},
     "output_type": "display_data"
    }
   ],
   "source": [
    "plt.boxplot(df['PERSONAL_INCOME'])\n",
    "plt.show()"
   ]
  },
  {
   "cell_type": "markdown",
   "id": "e47abecd",
   "metadata": {},
   "source": [
    "Распределение возраста"
   ]
  },
  {
   "cell_type": "code",
   "execution_count": 29,
   "id": "05e91a72",
   "metadata": {
    "scrolled": true
   },
   "outputs": [
    {
     "data": {
      "image/png": "[encoded data removed]",
      "text/plain": [
       "<Figure size 640x480 with 1 Axes>"
      ]
     },
     "metadata": {},
     "output_type": "display_data"
    }
   ],
   "source": [
    "plt.boxplot(df['AGE'])\n",
    "plt.show()"
   ]
  },
  {
   "cell_type": "markdown",
   "id": "dcfd847d",
   "metadata": {},
   "source": [
    "Матрица корреляций"
   ]
  },
  {
   "cell_type": "code",
   "execution_count": 41,
   "id": "ab803a6e",
   "metadata": {
    "scrolled": true
   },
   "outputs": [
    {
     "data": {
      "image/png": "[encoded data removed]",
      "text/plain": [
       "<Figure size 1600x800 with 2 Axes>"
      ]
     },
     "metadata": {},
     "output_type": "display_data"
    }
   ],
   "source": [
    "plt.figure(figsize=(16, 8))\n",
    "sns.heatmap(df.corr(), annot=True)\n",
    "plt.show()"
   ]
  },
  {
   "cell_type": "markdown",
   "id": "1f8673fc",
   "metadata": {},
   "source": [
    "Зависимость целевой переменной от личного дохода"
   ]
  },
  {
   "cell_type": "code",
   "execution_count": 46,
   "id": "a8ef8417",
   "metadata": {
    "scrolled": true
   },
   "outputs": [
    {
     "data": {
      "image/png": "[encoded data removed]",
      "text/plain": [
       "<Figure size 640x480 with 1 Axes>"
      ]
     },
     "metadata": {},
     "output_type": "display_data"
    }
   ],
   "source": [
    "plt.bar(df['TARGET'], df['PERSONAL_INCOME'])\n",
    "plt.show()"
   ]
  },
  {
   "cell_type": "markdown",
   "id": "dfc4a90c",
   "metadata": {},
   "source": [
    "Зависимость целевой переменной от возраста"
   ]
  },
  {
   "cell_type": "code",
   "execution_count": 47,
   "id": "a7463ccb",
   "metadata": {
    "scrolled": true
   },
   "outputs": [
    {
     "data": {
      "image/png": "[encoded data removed]",
      "text/plain": [
       "<Figure size 640x480 with 1 Axes>"
      ]
     },
     "metadata": {},
     "output_type": "display_data"
    }
   ],
   "source": [
    "plt.bar(df['TARGET'], df['AGE'])\n",
    "plt.show()"
   ]
  },
  {
   "cell_type": "code",
   "execution_count": 52,
   "id": "e7990732",
   "metadata": {},
   "outputs": [],
   "source": [
    "numbers = ['AGE', 'CHILD_TOTAL', 'DEPENDANTS', 'PERSONAL_INCOME', 'LOAN_NUM_TOTAL', 'LOAN_NUM_CLOSED']\n",
    "categorical = ['GENDER', 'DEPENDANTS', 'SOCSTATUS_WORK_FL', 'SOCSTATUS_PENS_FL']"
   ]
  },
  {
   "cell_type": "markdown",
   "id": "89c6061f",
   "metadata": {},
   "source": [
    "Характеристики числовых столбцов"
   ]
  },
  {
   "cell_type": "code",
   "execution_count": 54,
   "id": "1862c4f7",
   "metadata": {
    "scrolled": true
   },
   "outputs": [
    {
     "data": {
      "text/html": [
       "<div>\n",
       "<style scoped>\n",
       "    .dataframe tbody tr th:only-of-type {\n",
       "        vertical-align: middle;\n",
       "    }\n",
       "\n",
       "    .dataframe tbody tr th {\n",
       "        vertical-align: top;\n",
       "    }\n",
       "\n",
       "    .dataframe thead th {\n",
       "        text-align: right;\n",
       "    }\n",
       "</style>\n",
       "<table border=\"1\" class=\"dataframe\">\n",
       "  <thead>\n",
       "    <tr style=\"text-align: right;\">\n",
       "      <th></th>\n",
       "      <th>AGE</th>\n",
       "      <th>CHILD_TOTAL</th>\n",
       "      <th>DEPENDANTS</th>\n",
       "      <th>PERSONAL_INCOME</th>\n",
       "      <th>LOAN_NUM_TOTAL</th>\n",
       "      <th>LOAN_NUM_CLOSED</th>\n",
       "    </tr>\n",
       "  </thead>\n",
       "  <tbody>\n",
       "    <tr>\n",
       "      <th>count</th>\n",
       "      <td>15223.000000</td>\n",
       "      <td>15223.000000</td>\n",
       "      <td>15223.000000</td>\n",
       "      <td>15223.000000</td>\n",
       "      <td>15223.000000</td>\n",
       "      <td>15223.000000</td>\n",
       "    </tr>\n",
       "    <tr>\n",
       "      <th>mean</th>\n",
       "      <td>40.406096</td>\n",
       "      <td>1.099389</td>\n",
       "      <td>0.645208</td>\n",
       "      <td>13853.836323</td>\n",
       "      <td>1.387769</td>\n",
       "      <td>0.751889</td>\n",
       "    </tr>\n",
       "    <tr>\n",
       "      <th>std</th>\n",
       "      <td>11.601068</td>\n",
       "      <td>0.995411</td>\n",
       "      <td>0.812252</td>\n",
       "      <td>9015.467617</td>\n",
       "      <td>0.793566</td>\n",
       "      <td>0.988499</td>\n",
       "    </tr>\n",
       "    <tr>\n",
       "      <th>min</th>\n",
       "      <td>21.000000</td>\n",
       "      <td>0.000000</td>\n",
       "      <td>0.000000</td>\n",
       "      <td>24.000000</td>\n",
       "      <td>1.000000</td>\n",
       "      <td>0.000000</td>\n",
       "    </tr>\n",
       "    <tr>\n",
       "      <th>25%</th>\n",
       "      <td>30.000000</td>\n",
       "      <td>0.000000</td>\n",
       "      <td>0.000000</td>\n",
       "      <td>8000.000000</td>\n",
       "      <td>1.000000</td>\n",
       "      <td>0.000000</td>\n",
       "    </tr>\n",
       "    <tr>\n",
       "      <th>50%</th>\n",
       "      <td>39.000000</td>\n",
       "      <td>1.000000</td>\n",
       "      <td>0.000000</td>\n",
       "      <td>12000.000000</td>\n",
       "      <td>1.000000</td>\n",
       "      <td>0.000000</td>\n",
       "    </tr>\n",
       "    <tr>\n",
       "      <th>75%</th>\n",
       "      <td>50.000000</td>\n",
       "      <td>2.000000</td>\n",
       "      <td>1.000000</td>\n",
       "      <td>17000.000000</td>\n",
       "      <td>2.000000</td>\n",
       "      <td>1.000000</td>\n",
       "    </tr>\n",
       "    <tr>\n",
       "      <th>max</th>\n",
       "      <td>67.000000</td>\n",
       "      <td>10.000000</td>\n",
       "      <td>7.000000</td>\n",
       "      <td>250000.000000</td>\n",
       "      <td>11.000000</td>\n",
       "      <td>11.000000</td>\n",
       "    </tr>\n",
       "  </tbody>\n",
       "</table>\n",
       "</div>"
      ],
      "text/plain": [
       "                AGE   CHILD_TOTAL    DEPENDANTS  PERSONAL_INCOME  \\\n",
       "count  15223.000000  15223.000000  15223.000000     15223.000000   \n",
       "mean      40.406096      1.099389      0.645208     13853.836323   \n",
       "std       11.601068      0.995411      0.812252      9015.467617   \n",
       "min       21.000000      0.000000      0.000000        24.000000   \n",
       "25%       30.000000      0.000000      0.000000      8000.000000   \n",
       "50%       39.000000      1.000000      0.000000     12000.000000   \n",
       "75%       50.000000      2.000000      1.000000     17000.000000   \n",
       "max       67.000000     10.000000      7.000000    250000.000000   \n",
       "\n",
       "       LOAN_NUM_TOTAL  LOAN_NUM_CLOSED  \n",
       "count    15223.000000     15223.000000  \n",
       "mean         1.387769         0.751889  \n",
       "std          0.793566         0.988499  \n",
       "min          1.000000         0.000000  \n",
       "25%          1.000000         0.000000  \n",
       "50%          1.000000         0.000000  \n",
       "75%          2.000000         1.000000  \n",
       "max         11.000000        11.000000  "
      ]
     },
     "execution_count": 54,
     "metadata": {},
     "output_type": "execute_result"
    }
   ],
   "source": [
    "df[numbers].describe()"
   ]
  },
  {
   "cell_type": "markdown",
   "id": "9bd1224f",
   "metadata": {},
   "source": [
    "Характеристики категориальных столбцов"
   ]
  },
  {
   "cell_type": "code",
   "execution_count": 58,
   "id": "c3942fc1",
   "metadata": {},
   "outputs": [
    {
     "data": {
      "text/html": [
       "<div>\n",
       "<style scoped>\n",
       "    .dataframe tbody tr th:only-of-type {\n",
       "        vertical-align: middle;\n",
       "    }\n",
       "\n",
       "    .dataframe tbody tr th {\n",
       "        vertical-align: top;\n",
       "    }\n",
       "\n",
       "    .dataframe thead th {\n",
       "        text-align: right;\n",
       "    }\n",
       "</style>\n",
       "<table border=\"1\" class=\"dataframe\">\n",
       "  <thead>\n",
       "    <tr style=\"text-align: right;\">\n",
       "      <th></th>\n",
       "      <th>GENDER</th>\n",
       "      <th>DEPENDANTS</th>\n",
       "      <th>SOCSTATUS_WORK_FL</th>\n",
       "      <th>SOCSTATUS_PENS_FL</th>\n",
       "    </tr>\n",
       "  </thead>\n",
       "  <tbody>\n",
       "    <tr>\n",
       "      <th>count</th>\n",
       "      <td>15223</td>\n",
       "      <td>15223</td>\n",
       "      <td>15223</td>\n",
       "      <td>15223</td>\n",
       "    </tr>\n",
       "    <tr>\n",
       "      <th>unique</th>\n",
       "      <td>2</td>\n",
       "      <td>8</td>\n",
       "      <td>2</td>\n",
       "      <td>2</td>\n",
       "    </tr>\n",
       "    <tr>\n",
       "      <th>top</th>\n",
       "      <td>1</td>\n",
       "      <td>0</td>\n",
       "      <td>1</td>\n",
       "      <td>0</td>\n",
       "    </tr>\n",
       "    <tr>\n",
       "      <th>freq</th>\n",
       "      <td>9964</td>\n",
       "      <td>8226</td>\n",
       "      <td>13847</td>\n",
       "      <td>13176</td>\n",
       "    </tr>\n",
       "  </tbody>\n",
       "</table>\n",
       "</div>"
      ],
      "text/plain": [
       "        GENDER  DEPENDANTS  SOCSTATUS_WORK_FL  SOCSTATUS_PENS_FL\n",
       "count    15223       15223              15223              15223\n",
       "unique       2           8                  2                  2\n",
       "top          1           0                  1                  0\n",
       "freq      9964        8226              13847              13176"
      ]
     },
     "execution_count": 58,
     "metadata": {},
     "output_type": "execute_result"
    }
   ],
   "source": [
    "df[categorical].astype('category').describe()"
   ]
  },
  {
   "cell_type": "code",
   "execution_count": null,
   "id": "391f309c",
   "metadata": {},
   "outputs": [],
   "source": []
  }
 ],
 "metadata": {
  "kernelspec": {
   "display_name": "Python 3 (ipykernel)",
   "language": "python",
   "name": "python3"
  },
  "language_info": {
   "codemirror_mode": {
    "name": "ipython",
    "version": 3
   },
   "file_extension": ".py",
   "mimetype": "text/x-python",
   "name": "python",
   "nbconvert_exporter": "python",
   "pygments_lexer": "ipython3",
   "version": "3.11.4"
  }
 },
 "nbformat": 4,
 "nbformat_minor": 5
}
